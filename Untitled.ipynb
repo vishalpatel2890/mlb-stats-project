{
 "cells": [
  {
   "cell_type": "code",
   "execution_count": 11,
   "metadata": {},
   "outputs": [],
   "source": [
    "from add_team_code_script import *"
   ]
  },
  {
   "cell_type": "code",
   "execution_count": 4,
   "metadata": {
    "scrolled": false
   },
   "outputs": [],
   "source": [
    "short = changeTeamShortcode()"
   ]
  },
  {
   "cell_type": "code",
   "execution_count": 7,
   "metadata": {},
   "outputs": [
    {
     "data": {
      "text/plain": [
       "'ARI'"
      ]
     },
     "execution_count": 7,
     "metadata": {},
     "output_type": "execute_result"
    }
   ],
   "source": [
    "short[0].shortcode"
   ]
  },
  {
   "cell_type": "code",
   "execution_count": 8,
   "metadata": {},
   "outputs": [
    {
     "data": {
      "text/plain": [
       "IdentitySet([<Team 16>, <Team 28>, <Team 17>, <Team 29>, <Team 13>, <Team 18>, <Team 30>, <Team 12>, <Team 11>, <Team 19>, <Team 10>, <Team 20>, <Team 9>, <Team 21>, <Team 8>, <Team 7>, <Team 22>, <Team 6>, <Team 1>, <Team 5>, <Team 23>, <Team 4>, <Team 24>, <Team 3>, <Team 25>, <Team 26>, <Team 14>, <Team 27>, <Team 15>, <Team 2>])"
      ]
     },
     "execution_count": 8,
     "metadata": {},
     "output_type": "execute_result"
    }
   ],
   "source": [
    "db.session.dirty"
   ]
  },
  {
   "cell_type": "code",
   "execution_count": 9,
   "metadata": {},
   "outputs": [],
   "source": [
    "for team in short:\n",
    "    db.session.add(team)\n"
   ]
  },
  {
   "cell_type": "code",
   "execution_count": 12,
   "metadata": {},
   "outputs": [],
   "source": [
    "db.create_all()"
   ]
  },
  {
   "cell_type": "code",
   "execution_count": 13,
   "metadata": {},
   "outputs": [],
   "source": [
    "db.session.commit()"
   ]
  },
  {
   "cell_type": "code",
   "execution_count": 4,
   "metadata": {},
   "outputs": [],
   "source": [
    "# dsp = DefensiveStats()\n",
    "# osp = OffensiveStats()\n",
    "\n",
    "# def runs(year):\n",
    "#     runs_scored = osp.getOffensiveStatForEachTeamYear('runs_scored', year)[0]\n",
    "#     runs_allowed = dsp.getDefensiveStatForEachTeamYear('runs_allowed', year)[0]\n",
    "#     runs_list = [[x[0]]+[x[1]]+[y[1]] for x,y in [runs_scored, runs_allowed]]\n",
    "#     return runs_list\n",
    "# test_year = runs(2017)\n",
    "\n",
    "# # def ws_winners_years():\n",
    "# #     ws_list = session.query(WS_Winners.year).filter(WS_Winners.team_id).order_by(WS_Winners.year).all()\n",
    "# #     return ws_list\n",
    "# # ws_years = ws_winners_years()"
   ]
  },
  {
   "cell_type": "code",
   "execution_count": 5,
   "metadata": {},
   "outputs": [],
   "source": [
    "# def ws_winners_years():\n",
    "#     ws_list = WS_Winners.query.filter(WS_Winners.team_id).all()\n",
    "#     return ws_list\n",
    "# ws_years = [x.year for x in ws_winners_years()]\n",
    "# print(ws_years)"
   ]
  },
  {
   "cell_type": "code",
   "execution_count": null,
   "metadata": {},
   "outputs": [],
   "source": []
  }
 ],
 "metadata": {
  "kernelspec": {
   "display_name": "Python 3",
   "language": "python",
   "name": "python3"
  },
  "language_info": {
   "codemirror_mode": {
    "name": "ipython",
    "version": 3
   },
   "file_extension": ".py",
   "mimetype": "text/x-python",
   "name": "python",
   "nbconvert_exporter": "python",
   "pygments_lexer": "ipython3",
   "version": "3.6.5"
  }
 },
 "nbformat": 4,
 "nbformat_minor": 2
}
